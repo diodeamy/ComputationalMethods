{
  "cells": [
    {
      "cell_type": "code",
      "execution_count": null,
      "metadata": {
        "colab": {
          "base_uri": "https://localhost:8080/"
        },
        "id": "w9QJJDtNCJOl",
        "outputId": "31e8ba1a-5d09-414f-81c3-4a256b43a537"
      },
      "outputs": [
        {
          "output_type": "stream",
          "name": "stdout",
          "text": [
            "3.7.15 (default, Oct 12 2022, 19:14:55) \n",
            "[GCC 7.5.0]\n"
          ]
        }
      ],
      "source": [
        "# Import libraries\n",
        "\n",
        "import pandas as pd\n",
        "import numpy as np\n",
        "import seaborn as sns\n",
        "import matplotlib.pyplot as plt\n",
        "\n",
        "from sklearn import preprocessing\n",
        "from sklearn.impute import SimpleImputer\n",
        "from sklearn.tree import DecisionTreeClassifier\n",
        "from sklearn.ensemble import BaggingClassifier, RandomForestClassifier,GradientBoostingClassifier, AdaBoostClassifier, StackingClassifier\n",
        "from xgboost import XGBClassifier\n",
        "from sklearn import tree\n",
        "from sklearn import metrics\n",
        "from sklearn.model_selection import GridSearchCV, train_test_split\n",
        "\n",
        "%matplotlib inline\n",
        "\n",
        "import warnings\n",
        "warnings.filterwarnings(\"ignore\")\n",
        "pd.options.display.float_format = '{:,.2f}'.format\n",
        "\n",
        "%matplotlib inline\n",
        "import sys\n",
        "print(sys.version)\n",
        "import matplotlib as mpl\n",
        "import requests\n",
        "import io\n",
        "import scipy\n",
        "# Update the matplotlib configuration parameters:\n",
        "mpl.rcParams.update({'font.size': 18, 'font.family': 'serif', 'xtick.major.pad' : 5, 'ytick.major.pad' : 5})\n",
        "\n",
        "import seaborn as sns \n",
        "sns.set_theme()\n",
        "\n",
        "from sklearn import metrics\n",
        "import matplotlib.pyplot as plt\n",
        "%matplotlib inline\n",
        "import warnings\n",
        "warnings.filterwarnings('ignore')\n",
        "import seaborn as sns\n",
        "from sklearn.model_selection import train_test_split\n",
        "from sklearn.model_selection import GridSearchCV\n",
        "from sklearn import metrics\n",
        "from sklearn.ensemble import BaggingClassifier, RandomForestClassifier\n",
        "from sklearn.linear_model import LogisticRegression"
      ]
    },
    {
      "cell_type": "code",
      "execution_count": null,
      "metadata": {
        "id": "C5o1PzI9CJOp"
      },
      "outputs": [],
      "source": [
        "# While doing uni-variate analysis of numerical variables we want to study their central tendency \n",
        "# and dispersion.\n",
        "# Let us write a function that will help us create boxplot and histogram for any input numerical \n",
        "# variable.\n",
        "# This function takes the numerical column as the input and returns the boxplots \n",
        "# and histograms for the variable.\n",
        "\n",
        "def histogram_boxplot(feature, figsize=(15,10), bins = None):\n",
        "    \"\"\" Boxplot and histogram combined\n",
        "    feature: 1-d feature array\n",
        "    figsize: size of fig (default (9,8))\n",
        "    bins: number of bins (default None / auto)\n",
        "    \"\"\"\n",
        "    f2, (ax_box2, ax_hist2) = plt.subplots(nrows = 2, # Number of rows of the subplot grid= 2\n",
        "                                           sharex = True, # x-axis will be shared among all subplots\n",
        "                                           gridspec_kw = {\"height_ratios\": (.25, .75)}, \n",
        "                                           figsize = figsize \n",
        "                                           ) # creating the 2 subplots\n",
        "    sns.boxplot(feature, ax=ax_box2, showmeans=True, color='violet') # boxplot will be created and a star will indicate the mean value of the column\n",
        "    sns.distplot(feature, kde=F, ax=ax_hist2, bins=bins,palette=\"winter\") if bins else sns.distplot(feature, kde=False, ax=ax_hist2) # For histogram\n",
        "    ax_hist2.axvline(np.mean(feature), color='green', linestyle='--') # Add mean to the histogram\n",
        "    ax_hist2.axvline(np.median(feature), color='black', linestyle='-') # Add median to the histogram"
      ]
    },
    {
      "cell_type": "code",
      "execution_count": null,
      "metadata": {
        "id": "lSFqafU3CJOq"
      },
      "outputs": [],
      "source": [
        "# Load Dataset\n",
        "\n",
        "#data=pd.read_csv('Data.csv')\n",
        "#data.head()\n",
        "# Loading our data in its raw form\n",
        "\n",
        "urlGam = \"https://drive.google.com/uc?export=download&id=1TvbbCV-kJeNMuIORMyiMFgH_u_CQSZhX\" # Make sure the url is the raw version of the file on GitHub\n",
        "downloadGam = requests.get(urlGam).content\n",
        "GamRaw = pd.read_csv(io.StringIO(downloadGam.decode('utf-8')))\n",
        "\n",
        "urlNeut = \"https://drive.google.com/uc?export=download&id=1bY6ZPF3WLxfviYSSViuw1SEx1_sWxP46\" # Make sure the url is the raw version of the file on GitHub\n",
        "downloadNeut = requests.get(urlNeut).content\n",
        "NeutRaw = pd.read_csv(io.StringIO(downloadNeut.decode('utf-8')))"
      ]
    },
    {
      "cell_type": "code",
      "execution_count": null,
      "metadata": {
        "colab": {
          "base_uri": "https://localhost:8080/"
        },
        "id": "Ouhas9e6CJOr",
        "outputId": "dfbc7f9b-dfaf-4092-98bf-5393fab533bc"
      },
      "outputs": [
        {
          "output_type": "execute_result",
          "data": {
            "text/plain": [
              "(43360, 11)"
            ]
          },
          "metadata": {},
          "execution_count": 4
        }
      ],
      "source": [
        "from sklearn.preprocessing import MinMaxScaler\n",
        "\n",
        "scaler = MinMaxScaler()\n",
        "\n",
        "scaler.fit(GamRaw)\n",
        "scaledGam = scaler.transform(GamRaw)\n",
        "GamNormal = pd.DataFrame(scaledGam, columns=GamRaw.columns)\n",
        "GamNormal.shape"
      ]
    },
    {
      "cell_type": "code",
      "execution_count": null,
      "metadata": {
        "colab": {
          "base_uri": "https://localhost:8080/",
          "height": 206
        },
        "id": "_cNh8JAjCJOs",
        "outputId": "45c0e3a7-94c9-467e-f421-05d57415bbfc"
      },
      "outputs": [
        {
          "output_type": "execute_result",
          "data": {
            "text/plain": [
              "    Th   Ph    E  NrHits  NrBumps   E1  E1E9  E9E25  Z20  Z53  LatMom\n",
              "0 0.28 0.51 0.05    0.05     0.00 0.07  1.00   1.00 0.85 0.03    0.68\n",
              "1 0.51 0.64 0.13    0.22     0.00 0.07  0.34   0.92 0.89 0.03    0.88\n",
              "2 0.12 0.46 0.36    0.36     0.20 0.25  0.48   0.82 0.87 0.02    0.80\n",
              "3 0.52 0.51 0.24    0.29     0.20 0.13  0.45   0.74 0.73 0.06    0.91\n",
              "4 0.61 0.26 0.19    0.22     0.00 0.19  0.92   0.69 0.88 0.01    0.94"
            ],
            "text/html": [
              "\n",
              "  <div id=\"df-08967ccc-0180-4c0a-a610-521deecb5a48\">\n",
              "    <div class=\"colab-df-container\">\n",
              "      <div>\n",
              "<style scoped>\n",
              "    .dataframe tbody tr th:only-of-type {\n",
              "        vertical-align: middle;\n",
              "    }\n",
              "\n",
              "    .dataframe tbody tr th {\n",
              "        vertical-align: top;\n",
              "    }\n",
              "\n",
              "    .dataframe thead th {\n",
              "        text-align: right;\n",
              "    }\n",
              "</style>\n",
              "<table border=\"1\" class=\"dataframe\">\n",
              "  <thead>\n",
              "    <tr style=\"text-align: right;\">\n",
              "      <th></th>\n",
              "      <th>Th</th>\n",
              "      <th>Ph</th>\n",
              "      <th>E</th>\n",
              "      <th>NrHits</th>\n",
              "      <th>NrBumps</th>\n",
              "      <th>E1</th>\n",
              "      <th>E1E9</th>\n",
              "      <th>E9E25</th>\n",
              "      <th>Z20</th>\n",
              "      <th>Z53</th>\n",
              "      <th>LatMom</th>\n",
              "    </tr>\n",
              "  </thead>\n",
              "  <tbody>\n",
              "    <tr>\n",
              "      <th>0</th>\n",
              "      <td>0.28</td>\n",
              "      <td>0.51</td>\n",
              "      <td>0.05</td>\n",
              "      <td>0.05</td>\n",
              "      <td>0.00</td>\n",
              "      <td>0.07</td>\n",
              "      <td>1.00</td>\n",
              "      <td>1.00</td>\n",
              "      <td>0.85</td>\n",
              "      <td>0.03</td>\n",
              "      <td>0.68</td>\n",
              "    </tr>\n",
              "    <tr>\n",
              "      <th>1</th>\n",
              "      <td>0.51</td>\n",
              "      <td>0.64</td>\n",
              "      <td>0.13</td>\n",
              "      <td>0.22</td>\n",
              "      <td>0.00</td>\n",
              "      <td>0.07</td>\n",
              "      <td>0.34</td>\n",
              "      <td>0.92</td>\n",
              "      <td>0.89</td>\n",
              "      <td>0.03</td>\n",
              "      <td>0.88</td>\n",
              "    </tr>\n",
              "    <tr>\n",
              "      <th>2</th>\n",
              "      <td>0.12</td>\n",
              "      <td>0.46</td>\n",
              "      <td>0.36</td>\n",
              "      <td>0.36</td>\n",
              "      <td>0.20</td>\n",
              "      <td>0.25</td>\n",
              "      <td>0.48</td>\n",
              "      <td>0.82</td>\n",
              "      <td>0.87</td>\n",
              "      <td>0.02</td>\n",
              "      <td>0.80</td>\n",
              "    </tr>\n",
              "    <tr>\n",
              "      <th>3</th>\n",
              "      <td>0.52</td>\n",
              "      <td>0.51</td>\n",
              "      <td>0.24</td>\n",
              "      <td>0.29</td>\n",
              "      <td>0.20</td>\n",
              "      <td>0.13</td>\n",
              "      <td>0.45</td>\n",
              "      <td>0.74</td>\n",
              "      <td>0.73</td>\n",
              "      <td>0.06</td>\n",
              "      <td>0.91</td>\n",
              "    </tr>\n",
              "    <tr>\n",
              "      <th>4</th>\n",
              "      <td>0.61</td>\n",
              "      <td>0.26</td>\n",
              "      <td>0.19</td>\n",
              "      <td>0.22</td>\n",
              "      <td>0.00</td>\n",
              "      <td>0.19</td>\n",
              "      <td>0.92</td>\n",
              "      <td>0.69</td>\n",
              "      <td>0.88</td>\n",
              "      <td>0.01</td>\n",
              "      <td>0.94</td>\n",
              "    </tr>\n",
              "  </tbody>\n",
              "</table>\n",
              "</div>\n",
              "      <button class=\"colab-df-convert\" onclick=\"convertToInteractive('df-08967ccc-0180-4c0a-a610-521deecb5a48')\"\n",
              "              title=\"Convert this dataframe to an interactive table.\"\n",
              "              style=\"display:none;\">\n",
              "        \n",
              "  <svg xmlns=\"http://www.w3.org/2000/svg\" height=\"24px\"viewBox=\"0 0 24 24\"\n",
              "       width=\"24px\">\n",
              "    <path d=\"M0 0h24v24H0V0z\" fill=\"none\"/>\n",
              "    <path d=\"M18.56 5.44l.94 2.06.94-2.06 2.06-.94-2.06-.94-.94-2.06-.94 2.06-2.06.94zm-11 1L8.5 8.5l.94-2.06 2.06-.94-2.06-.94L8.5 2.5l-.94 2.06-2.06.94zm10 10l.94 2.06.94-2.06 2.06-.94-2.06-.94-.94-2.06-.94 2.06-2.06.94z\"/><path d=\"M17.41 7.96l-1.37-1.37c-.4-.4-.92-.59-1.43-.59-.52 0-1.04.2-1.43.59L10.3 9.45l-7.72 7.72c-.78.78-.78 2.05 0 2.83L4 21.41c.39.39.9.59 1.41.59.51 0 1.02-.2 1.41-.59l7.78-7.78 2.81-2.81c.8-.78.8-2.07 0-2.86zM5.41 20L4 18.59l7.72-7.72 1.47 1.35L5.41 20z\"/>\n",
              "  </svg>\n",
              "      </button>\n",
              "      \n",
              "  <style>\n",
              "    .colab-df-container {\n",
              "      display:flex;\n",
              "      flex-wrap:wrap;\n",
              "      gap: 12px;\n",
              "    }\n",
              "\n",
              "    .colab-df-convert {\n",
              "      background-color: #E8F0FE;\n",
              "      border: none;\n",
              "      border-radius: 50%;\n",
              "      cursor: pointer;\n",
              "      display: none;\n",
              "      fill: #1967D2;\n",
              "      height: 32px;\n",
              "      padding: 0 0 0 0;\n",
              "      width: 32px;\n",
              "    }\n",
              "\n",
              "    .colab-df-convert:hover {\n",
              "      background-color: #E2EBFA;\n",
              "      box-shadow: 0px 1px 2px rgba(60, 64, 67, 0.3), 0px 1px 3px 1px rgba(60, 64, 67, 0.15);\n",
              "      fill: #174EA6;\n",
              "    }\n",
              "\n",
              "    [theme=dark] .colab-df-convert {\n",
              "      background-color: #3B4455;\n",
              "      fill: #D2E3FC;\n",
              "    }\n",
              "\n",
              "    [theme=dark] .colab-df-convert:hover {\n",
              "      background-color: #434B5C;\n",
              "      box-shadow: 0px 1px 3px 1px rgba(0, 0, 0, 0.15);\n",
              "      filter: drop-shadow(0px 1px 2px rgba(0, 0, 0, 0.3));\n",
              "      fill: #FFFFFF;\n",
              "    }\n",
              "  </style>\n",
              "\n",
              "      <script>\n",
              "        const buttonEl =\n",
              "          document.querySelector('#df-08967ccc-0180-4c0a-a610-521deecb5a48 button.colab-df-convert');\n",
              "        buttonEl.style.display =\n",
              "          google.colab.kernel.accessAllowed ? 'block' : 'none';\n",
              "\n",
              "        async function convertToInteractive(key) {\n",
              "          const element = document.querySelector('#df-08967ccc-0180-4c0a-a610-521deecb5a48');\n",
              "          const dataTable =\n",
              "            await google.colab.kernel.invokeFunction('convertToInteractive',\n",
              "                                                     [key], {});\n",
              "          if (!dataTable) return;\n",
              "\n",
              "          const docLinkHtml = 'Like what you see? Visit the ' +\n",
              "            '<a target=\"_blank\" href=https://colab.research.google.com/notebooks/data_table.ipynb>data table notebook</a>'\n",
              "            + ' to learn more about interactive tables.';\n",
              "          element.innerHTML = '';\n",
              "          dataTable['output_type'] = 'display_data';\n",
              "          await google.colab.output.renderOutput(dataTable, element);\n",
              "          const docLink = document.createElement('div');\n",
              "          docLink.innerHTML = docLinkHtml;\n",
              "          element.appendChild(docLink);\n",
              "        }\n",
              "      </script>\n",
              "    </div>\n",
              "  </div>\n",
              "  "
            ]
          },
          "metadata": {},
          "execution_count": 5
        }
      ],
      "source": [
        "scaler.fit(NeutRaw)\n",
        "scaledNeut = scaler.transform(NeutRaw)\n",
        "NeutNormal = pd.DataFrame(scaledNeut, columns=NeutRaw.columns)\n",
        "NeutNormal.head()"
      ]
    },
    {
      "cell_type": "code",
      "execution_count": null,
      "metadata": {
        "colab": {
          "base_uri": "https://localhost:8080/",
          "height": 676
        },
        "id": "Er4_qteMCJOs",
        "outputId": "bf48e47e-d36e-4045-82d2-dbf135b20664"
      },
      "outputs": [
        {
          "output_type": "execute_result",
          "data": {
            "text/plain": [
              "        Th   Ph    E  NrHits  NrBumps   E1  E1E9  E9E25  Z20  Z53  LatMom  \\\n",
              "2338  0.60 0.95 0.11    0.08     0.00 0.14  0.95   0.89 0.95 0.01    0.41   \n",
              "35269 0.90 0.60 0.24    0.31     0.00 0.15  0.38   0.90 0.84 0.01    0.97   \n",
              "33667 0.52 0.78 0.66    0.46     0.00 0.61  0.74   0.94 0.97 0.00    0.29   \n",
              "10650 0.73 0.62 0.44    0.41     0.00 0.26  0.37   0.94 0.96 0.00    0.27   \n",
              "8702  0.67 0.32 0.32    0.28     0.00 0.26  0.62   0.95 0.95 0.00    0.73   \n",
              "40174 0.27 0.88 0.31    0.35     0.00 0.22  0.52   0.95 0.96 0.01    0.25   \n",
              "12502 0.74 0.15 0.20    0.19     0.00 0.10  0.33   0.93 0.88 0.06    0.78   \n",
              "31498 0.84 0.20 0.40    0.39     0.00 0.30  0.55   0.94 0.95 0.00    0.55   \n",
              "5969  0.24 0.77 0.46    0.37     0.00 0.36  0.59   0.95 0.95 0.01    0.38   \n",
              "8961  0.18 0.84 0.23    0.28     0.00 0.21  0.74   0.95 0.94 0.00    0.84   \n",
              "27057 0.77 0.56 0.42    0.30     0.00 0.33  0.56   0.97 0.97 0.00    0.19   \n",
              "3394  0.53 0.42 0.68    0.52     0.00 0.55  0.63   0.94 0.96 0.01    0.32   \n",
              "15570 0.61 0.64 0.22    0.27     0.00 0.06  0.17   0.70 0.83 0.08    0.89   \n",
              "8951  0.28 0.87 0.44    0.47     0.00 0.18  0.24   0.69 0.88 0.02    0.95   \n",
              "15859 0.13 0.83 0.49    0.24     0.00 0.52  0.88   0.96 0.98 0.00    0.18   \n",
              "13224 0.21 0.96 0.05    0.12     0.00 0.05  0.61   0.88 0.93 0.01    0.73   \n",
              "8724  0.49 0.72 0.24    0.24     0.00 0.23  0.76   0.97 0.97 0.00    0.36   \n",
              "39717 0.97 0.68 0.24    0.30     0.00 0.11  0.25   0.91 0.94 0.00    0.41   \n",
              "41940 0.99 0.34 0.39    0.26     0.00 0.21  0.31   0.98 0.96 0.01    0.26   \n",
              "19956 0.68 0.54 0.39    0.26     0.00 0.39  0.81   0.97 0.98 0.00    0.14   \n",
              "\n",
              "       distinction  \n",
              "2338             1  \n",
              "35269            1  \n",
              "33667            0  \n",
              "10650            0  \n",
              "8702             0  \n",
              "40174            0  \n",
              "12502            1  \n",
              "31498            0  \n",
              "5969             0  \n",
              "8961             0  \n",
              "27057            0  \n",
              "3394             0  \n",
              "15570            1  \n",
              "8951             1  \n",
              "15859            0  \n",
              "13224            1  \n",
              "8724             0  \n",
              "39717            0  \n",
              "41940            0  \n",
              "19956            0  "
            ],
            "text/html": [
              "\n",
              "  <div id=\"df-7a920631-e6af-4109-9f14-f55238da7353\">\n",
              "    <div class=\"colab-df-container\">\n",
              "      <div>\n",
              "<style scoped>\n",
              "    .dataframe tbody tr th:only-of-type {\n",
              "        vertical-align: middle;\n",
              "    }\n",
              "\n",
              "    .dataframe tbody tr th {\n",
              "        vertical-align: top;\n",
              "    }\n",
              "\n",
              "    .dataframe thead th {\n",
              "        text-align: right;\n",
              "    }\n",
              "</style>\n",
              "<table border=\"1\" class=\"dataframe\">\n",
              "  <thead>\n",
              "    <tr style=\"text-align: right;\">\n",
              "      <th></th>\n",
              "      <th>Th</th>\n",
              "      <th>Ph</th>\n",
              "      <th>E</th>\n",
              "      <th>NrHits</th>\n",
              "      <th>NrBumps</th>\n",
              "      <th>E1</th>\n",
              "      <th>E1E9</th>\n",
              "      <th>E9E25</th>\n",
              "      <th>Z20</th>\n",
              "      <th>Z53</th>\n",
              "      <th>LatMom</th>\n",
              "      <th>distinction</th>\n",
              "    </tr>\n",
              "  </thead>\n",
              "  <tbody>\n",
              "    <tr>\n",
              "      <th>2338</th>\n",
              "      <td>0.60</td>\n",
              "      <td>0.95</td>\n",
              "      <td>0.11</td>\n",
              "      <td>0.08</td>\n",
              "      <td>0.00</td>\n",
              "      <td>0.14</td>\n",
              "      <td>0.95</td>\n",
              "      <td>0.89</td>\n",
              "      <td>0.95</td>\n",
              "      <td>0.01</td>\n",
              "      <td>0.41</td>\n",
              "      <td>1</td>\n",
              "    </tr>\n",
              "    <tr>\n",
              "      <th>35269</th>\n",
              "      <td>0.90</td>\n",
              "      <td>0.60</td>\n",
              "      <td>0.24</td>\n",
              "      <td>0.31</td>\n",
              "      <td>0.00</td>\n",
              "      <td>0.15</td>\n",
              "      <td>0.38</td>\n",
              "      <td>0.90</td>\n",
              "      <td>0.84</td>\n",
              "      <td>0.01</td>\n",
              "      <td>0.97</td>\n",
              "      <td>1</td>\n",
              "    </tr>\n",
              "    <tr>\n",
              "      <th>33667</th>\n",
              "      <td>0.52</td>\n",
              "      <td>0.78</td>\n",
              "      <td>0.66</td>\n",
              "      <td>0.46</td>\n",
              "      <td>0.00</td>\n",
              "      <td>0.61</td>\n",
              "      <td>0.74</td>\n",
              "      <td>0.94</td>\n",
              "      <td>0.97</td>\n",
              "      <td>0.00</td>\n",
              "      <td>0.29</td>\n",
              "      <td>0</td>\n",
              "    </tr>\n",
              "    <tr>\n",
              "      <th>10650</th>\n",
              "      <td>0.73</td>\n",
              "      <td>0.62</td>\n",
              "      <td>0.44</td>\n",
              "      <td>0.41</td>\n",
              "      <td>0.00</td>\n",
              "      <td>0.26</td>\n",
              "      <td>0.37</td>\n",
              "      <td>0.94</td>\n",
              "      <td>0.96</td>\n",
              "      <td>0.00</td>\n",
              "      <td>0.27</td>\n",
              "      <td>0</td>\n",
              "    </tr>\n",
              "    <tr>\n",
              "      <th>8702</th>\n",
              "      <td>0.67</td>\n",
              "      <td>0.32</td>\n",
              "      <td>0.32</td>\n",
              "      <td>0.28</td>\n",
              "      <td>0.00</td>\n",
              "      <td>0.26</td>\n",
              "      <td>0.62</td>\n",
              "      <td>0.95</td>\n",
              "      <td>0.95</td>\n",
              "      <td>0.00</td>\n",
              "      <td>0.73</td>\n",
              "      <td>0</td>\n",
              "    </tr>\n",
              "    <tr>\n",
              "      <th>40174</th>\n",
              "      <td>0.27</td>\n",
              "      <td>0.88</td>\n",
              "      <td>0.31</td>\n",
              "      <td>0.35</td>\n",
              "      <td>0.00</td>\n",
              "      <td>0.22</td>\n",
              "      <td>0.52</td>\n",
              "      <td>0.95</td>\n",
              "      <td>0.96</td>\n",
              "      <td>0.01</td>\n",
              "      <td>0.25</td>\n",
              "      <td>0</td>\n",
              "    </tr>\n",
              "    <tr>\n",
              "      <th>12502</th>\n",
              "      <td>0.74</td>\n",
              "      <td>0.15</td>\n",
              "      <td>0.20</td>\n",
              "      <td>0.19</td>\n",
              "      <td>0.00</td>\n",
              "      <td>0.10</td>\n",
              "      <td>0.33</td>\n",
              "      <td>0.93</td>\n",
              "      <td>0.88</td>\n",
              "      <td>0.06</td>\n",
              "      <td>0.78</td>\n",
              "      <td>1</td>\n",
              "    </tr>\n",
              "    <tr>\n",
              "      <th>31498</th>\n",
              "      <td>0.84</td>\n",
              "      <td>0.20</td>\n",
              "      <td>0.40</td>\n",
              "      <td>0.39</td>\n",
              "      <td>0.00</td>\n",
              "      <td>0.30</td>\n",
              "      <td>0.55</td>\n",
              "      <td>0.94</td>\n",
              "      <td>0.95</td>\n",
              "      <td>0.00</td>\n",
              "      <td>0.55</td>\n",
              "      <td>0</td>\n",
              "    </tr>\n",
              "    <tr>\n",
              "      <th>5969</th>\n",
              "      <td>0.24</td>\n",
              "      <td>0.77</td>\n",
              "      <td>0.46</td>\n",
              "      <td>0.37</td>\n",
              "      <td>0.00</td>\n",
              "      <td>0.36</td>\n",
              "      <td>0.59</td>\n",
              "      <td>0.95</td>\n",
              "      <td>0.95</td>\n",
              "      <td>0.01</td>\n",
              "      <td>0.38</td>\n",
              "      <td>0</td>\n",
              "    </tr>\n",
              "    <tr>\n",
              "      <th>8961</th>\n",
              "      <td>0.18</td>\n",
              "      <td>0.84</td>\n",
              "      <td>0.23</td>\n",
              "      <td>0.28</td>\n",
              "      <td>0.00</td>\n",
              "      <td>0.21</td>\n",
              "      <td>0.74</td>\n",
              "      <td>0.95</td>\n",
              "      <td>0.94</td>\n",
              "      <td>0.00</td>\n",
              "      <td>0.84</td>\n",
              "      <td>0</td>\n",
              "    </tr>\n",
              "    <tr>\n",
              "      <th>27057</th>\n",
              "      <td>0.77</td>\n",
              "      <td>0.56</td>\n",
              "      <td>0.42</td>\n",
              "      <td>0.30</td>\n",
              "      <td>0.00</td>\n",
              "      <td>0.33</td>\n",
              "      <td>0.56</td>\n",
              "      <td>0.97</td>\n",
              "      <td>0.97</td>\n",
              "      <td>0.00</td>\n",
              "      <td>0.19</td>\n",
              "      <td>0</td>\n",
              "    </tr>\n",
              "    <tr>\n",
              "      <th>3394</th>\n",
              "      <td>0.53</td>\n",
              "      <td>0.42</td>\n",
              "      <td>0.68</td>\n",
              "      <td>0.52</td>\n",
              "      <td>0.00</td>\n",
              "      <td>0.55</td>\n",
              "      <td>0.63</td>\n",
              "      <td>0.94</td>\n",
              "      <td>0.96</td>\n",
              "      <td>0.01</td>\n",
              "      <td>0.32</td>\n",
              "      <td>0</td>\n",
              "    </tr>\n",
              "    <tr>\n",
              "      <th>15570</th>\n",
              "      <td>0.61</td>\n",
              "      <td>0.64</td>\n",
              "      <td>0.22</td>\n",
              "      <td>0.27</td>\n",
              "      <td>0.00</td>\n",
              "      <td>0.06</td>\n",
              "      <td>0.17</td>\n",
              "      <td>0.70</td>\n",
              "      <td>0.83</td>\n",
              "      <td>0.08</td>\n",
              "      <td>0.89</td>\n",
              "      <td>1</td>\n",
              "    </tr>\n",
              "    <tr>\n",
              "      <th>8951</th>\n",
              "      <td>0.28</td>\n",
              "      <td>0.87</td>\n",
              "      <td>0.44</td>\n",
              "      <td>0.47</td>\n",
              "      <td>0.00</td>\n",
              "      <td>0.18</td>\n",
              "      <td>0.24</td>\n",
              "      <td>0.69</td>\n",
              "      <td>0.88</td>\n",
              "      <td>0.02</td>\n",
              "      <td>0.95</td>\n",
              "      <td>1</td>\n",
              "    </tr>\n",
              "    <tr>\n",
              "      <th>15859</th>\n",
              "      <td>0.13</td>\n",
              "      <td>0.83</td>\n",
              "      <td>0.49</td>\n",
              "      <td>0.24</td>\n",
              "      <td>0.00</td>\n",
              "      <td>0.52</td>\n",
              "      <td>0.88</td>\n",
              "      <td>0.96</td>\n",
              "      <td>0.98</td>\n",
              "      <td>0.00</td>\n",
              "      <td>0.18</td>\n",
              "      <td>0</td>\n",
              "    </tr>\n",
              "    <tr>\n",
              "      <th>13224</th>\n",
              "      <td>0.21</td>\n",
              "      <td>0.96</td>\n",
              "      <td>0.05</td>\n",
              "      <td>0.12</td>\n",
              "      <td>0.00</td>\n",
              "      <td>0.05</td>\n",
              "      <td>0.61</td>\n",
              "      <td>0.88</td>\n",
              "      <td>0.93</td>\n",
              "      <td>0.01</td>\n",
              "      <td>0.73</td>\n",
              "      <td>1</td>\n",
              "    </tr>\n",
              "    <tr>\n",
              "      <th>8724</th>\n",
              "      <td>0.49</td>\n",
              "      <td>0.72</td>\n",
              "      <td>0.24</td>\n",
              "      <td>0.24</td>\n",
              "      <td>0.00</td>\n",
              "      <td>0.23</td>\n",
              "      <td>0.76</td>\n",
              "      <td>0.97</td>\n",
              "      <td>0.97</td>\n",
              "      <td>0.00</td>\n",
              "      <td>0.36</td>\n",
              "      <td>0</td>\n",
              "    </tr>\n",
              "    <tr>\n",
              "      <th>39717</th>\n",
              "      <td>0.97</td>\n",
              "      <td>0.68</td>\n",
              "      <td>0.24</td>\n",
              "      <td>0.30</td>\n",
              "      <td>0.00</td>\n",
              "      <td>0.11</td>\n",
              "      <td>0.25</td>\n",
              "      <td>0.91</td>\n",
              "      <td>0.94</td>\n",
              "      <td>0.00</td>\n",
              "      <td>0.41</td>\n",
              "      <td>0</td>\n",
              "    </tr>\n",
              "    <tr>\n",
              "      <th>41940</th>\n",
              "      <td>0.99</td>\n",
              "      <td>0.34</td>\n",
              "      <td>0.39</td>\n",
              "      <td>0.26</td>\n",
              "      <td>0.00</td>\n",
              "      <td>0.21</td>\n",
              "      <td>0.31</td>\n",
              "      <td>0.98</td>\n",
              "      <td>0.96</td>\n",
              "      <td>0.01</td>\n",
              "      <td>0.26</td>\n",
              "      <td>0</td>\n",
              "    </tr>\n",
              "    <tr>\n",
              "      <th>19956</th>\n",
              "      <td>0.68</td>\n",
              "      <td>0.54</td>\n",
              "      <td>0.39</td>\n",
              "      <td>0.26</td>\n",
              "      <td>0.00</td>\n",
              "      <td>0.39</td>\n",
              "      <td>0.81</td>\n",
              "      <td>0.97</td>\n",
              "      <td>0.98</td>\n",
              "      <td>0.00</td>\n",
              "      <td>0.14</td>\n",
              "      <td>0</td>\n",
              "    </tr>\n",
              "  </tbody>\n",
              "</table>\n",
              "</div>\n",
              "      <button class=\"colab-df-convert\" onclick=\"convertToInteractive('df-7a920631-e6af-4109-9f14-f55238da7353')\"\n",
              "              title=\"Convert this dataframe to an interactive table.\"\n",
              "              style=\"display:none;\">\n",
              "        \n",
              "  <svg xmlns=\"http://www.w3.org/2000/svg\" height=\"24px\"viewBox=\"0 0 24 24\"\n",
              "       width=\"24px\">\n",
              "    <path d=\"M0 0h24v24H0V0z\" fill=\"none\"/>\n",
              "    <path d=\"M18.56 5.44l.94 2.06.94-2.06 2.06-.94-2.06-.94-.94-2.06-.94 2.06-2.06.94zm-11 1L8.5 8.5l.94-2.06 2.06-.94-2.06-.94L8.5 2.5l-.94 2.06-2.06.94zm10 10l.94 2.06.94-2.06 2.06-.94-2.06-.94-.94-2.06-.94 2.06-2.06.94z\"/><path d=\"M17.41 7.96l-1.37-1.37c-.4-.4-.92-.59-1.43-.59-.52 0-1.04.2-1.43.59L10.3 9.45l-7.72 7.72c-.78.78-.78 2.05 0 2.83L4 21.41c.39.39.9.59 1.41.59.51 0 1.02-.2 1.41-.59l7.78-7.78 2.81-2.81c.8-.78.8-2.07 0-2.86zM5.41 20L4 18.59l7.72-7.72 1.47 1.35L5.41 20z\"/>\n",
              "  </svg>\n",
              "      </button>\n",
              "      \n",
              "  <style>\n",
              "    .colab-df-container {\n",
              "      display:flex;\n",
              "      flex-wrap:wrap;\n",
              "      gap: 12px;\n",
              "    }\n",
              "\n",
              "    .colab-df-convert {\n",
              "      background-color: #E8F0FE;\n",
              "      border: none;\n",
              "      border-radius: 50%;\n",
              "      cursor: pointer;\n",
              "      display: none;\n",
              "      fill: #1967D2;\n",
              "      height: 32px;\n",
              "      padding: 0 0 0 0;\n",
              "      width: 32px;\n",
              "    }\n",
              "\n",
              "    .colab-df-convert:hover {\n",
              "      background-color: #E2EBFA;\n",
              "      box-shadow: 0px 1px 2px rgba(60, 64, 67, 0.3), 0px 1px 3px 1px rgba(60, 64, 67, 0.15);\n",
              "      fill: #174EA6;\n",
              "    }\n",
              "\n",
              "    [theme=dark] .colab-df-convert {\n",
              "      background-color: #3B4455;\n",
              "      fill: #D2E3FC;\n",
              "    }\n",
              "\n",
              "    [theme=dark] .colab-df-convert:hover {\n",
              "      background-color: #434B5C;\n",
              "      box-shadow: 0px 1px 3px 1px rgba(0, 0, 0, 0.15);\n",
              "      filter: drop-shadow(0px 1px 2px rgba(0, 0, 0, 0.3));\n",
              "      fill: #FFFFFF;\n",
              "    }\n",
              "  </style>\n",
              "\n",
              "      <script>\n",
              "        const buttonEl =\n",
              "          document.querySelector('#df-7a920631-e6af-4109-9f14-f55238da7353 button.colab-df-convert');\n",
              "        buttonEl.style.display =\n",
              "          google.colab.kernel.accessAllowed ? 'block' : 'none';\n",
              "\n",
              "        async function convertToInteractive(key) {\n",
              "          const element = document.querySelector('#df-7a920631-e6af-4109-9f14-f55238da7353');\n",
              "          const dataTable =\n",
              "            await google.colab.kernel.invokeFunction('convertToInteractive',\n",
              "                                                     [key], {});\n",
              "          if (!dataTable) return;\n",
              "\n",
              "          const docLinkHtml = 'Like what you see? Visit the ' +\n",
              "            '<a target=\"_blank\" href=https://colab.research.google.com/notebooks/data_table.ipynb>data table notebook</a>'\n",
              "            + ' to learn more about interactive tables.';\n",
              "          element.innerHTML = '';\n",
              "          dataTable['output_type'] = 'display_data';\n",
              "          await google.colab.output.renderOutput(dataTable, element);\n",
              "          const docLink = document.createElement('div');\n",
              "          docLink.innerHTML = docLinkHtml;\n",
              "          element.appendChild(docLink);\n",
              "        }\n",
              "      </script>\n",
              "    </div>\n",
              "  </div>\n",
              "  "
            ]
          },
          "metadata": {},
          "execution_count": 6
        }
      ],
      "source": [
        "GamNormal[\"distinction\"] = 0\n",
        "NeutNormal[\"distinction\"] = 1\n",
        "\n",
        "plotFrame = pd.concat([GamNormal, NeutNormal])\n",
        "plotFrame= plotFrame.sample(frac=1)\n",
        "plotFrame.head(20)"
      ]
    },
    {
      "cell_type": "code",
      "execution_count": null,
      "metadata": {
        "colab": {
          "base_uri": "https://localhost:8080/",
          "height": 426
        },
        "id": "UMn_MMuWCJOt",
        "outputId": "6dae6f5b-ec40-418a-d06e-94f4324d67af"
      },
      "outputs": [
        {
          "output_type": "execute_result",
          "data": {
            "text/plain": [
              "                count  mean  std  min  25%  50%  75%  max\n",
              "Th          86,872.00  0.47 0.28 0.00 0.22 0.45 0.70 1.00\n",
              "Ph          86,872.00  0.50 0.29 0.00 0.25 0.50 0.75 1.00\n",
              "E           86,872.00  0.37 0.26 0.00 0.16 0.31 0.56 1.00\n",
              "NrHits      86,872.00  0.31 0.16 0.00 0.19 0.31 0.43 1.00\n",
              "NrBumps     86,872.00  0.01 0.06 0.00 0.00 0.00 0.00 1.00\n",
              "E1          86,872.00  0.29 0.22 0.00 0.11 0.22 0.43 1.00\n",
              "E1E9        86,872.00  0.58 0.20 0.00 0.42 0.60 0.75 1.00\n",
              "E9E25       86,872.00  0.88 0.13 0.00 0.86 0.94 0.96 1.00\n",
              "Z20         86,872.00  0.88 0.17 0.00 0.87 0.94 0.96 1.00\n",
              "Z53         86,872.00  0.03 0.06 0.00 0.00 0.01 0.02 1.00\n",
              "LatMom      86,872.00  0.63 0.30 0.00 0.34 0.68 0.92 1.00\n",
              "distinction 86,872.00  0.50 0.50 0.00 0.00 1.00 1.00 1.00"
            ],
            "text/html": [
              "\n",
              "  <div id=\"df-ced79b36-da31-4eb0-aab9-eeec36f595f7\">\n",
              "    <div class=\"colab-df-container\">\n",
              "      <div>\n",
              "<style scoped>\n",
              "    .dataframe tbody tr th:only-of-type {\n",
              "        vertical-align: middle;\n",
              "    }\n",
              "\n",
              "    .dataframe tbody tr th {\n",
              "        vertical-align: top;\n",
              "    }\n",
              "\n",
              "    .dataframe thead th {\n",
              "        text-align: right;\n",
              "    }\n",
              "</style>\n",
              "<table border=\"1\" class=\"dataframe\">\n",
              "  <thead>\n",
              "    <tr style=\"text-align: right;\">\n",
              "      <th></th>\n",
              "      <th>count</th>\n",
              "      <th>mean</th>\n",
              "      <th>std</th>\n",
              "      <th>min</th>\n",
              "      <th>25%</th>\n",
              "      <th>50%</th>\n",
              "      <th>75%</th>\n",
              "      <th>max</th>\n",
              "    </tr>\n",
              "  </thead>\n",
              "  <tbody>\n",
              "    <tr>\n",
              "      <th>Th</th>\n",
              "      <td>86,872.00</td>\n",
              "      <td>0.47</td>\n",
              "      <td>0.28</td>\n",
              "      <td>0.00</td>\n",
              "      <td>0.22</td>\n",
              "      <td>0.45</td>\n",
              "      <td>0.70</td>\n",
              "      <td>1.00</td>\n",
              "    </tr>\n",
              "    <tr>\n",
              "      <th>Ph</th>\n",
              "      <td>86,872.00</td>\n",
              "      <td>0.50</td>\n",
              "      <td>0.29</td>\n",
              "      <td>0.00</td>\n",
              "      <td>0.25</td>\n",
              "      <td>0.50</td>\n",
              "      <td>0.75</td>\n",
              "      <td>1.00</td>\n",
              "    </tr>\n",
              "    <tr>\n",
              "      <th>E</th>\n",
              "      <td>86,872.00</td>\n",
              "      <td>0.37</td>\n",
              "      <td>0.26</td>\n",
              "      <td>0.00</td>\n",
              "      <td>0.16</td>\n",
              "      <td>0.31</td>\n",
              "      <td>0.56</td>\n",
              "      <td>1.00</td>\n",
              "    </tr>\n",
              "    <tr>\n",
              "      <th>NrHits</th>\n",
              "      <td>86,872.00</td>\n",
              "      <td>0.31</td>\n",
              "      <td>0.16</td>\n",
              "      <td>0.00</td>\n",
              "      <td>0.19</td>\n",
              "      <td>0.31</td>\n",
              "      <td>0.43</td>\n",
              "      <td>1.00</td>\n",
              "    </tr>\n",
              "    <tr>\n",
              "      <th>NrBumps</th>\n",
              "      <td>86,872.00</td>\n",
              "      <td>0.01</td>\n",
              "      <td>0.06</td>\n",
              "      <td>0.00</td>\n",
              "      <td>0.00</td>\n",
              "      <td>0.00</td>\n",
              "      <td>0.00</td>\n",
              "      <td>1.00</td>\n",
              "    </tr>\n",
              "    <tr>\n",
              "      <th>E1</th>\n",
              "      <td>86,872.00</td>\n",
              "      <td>0.29</td>\n",
              "      <td>0.22</td>\n",
              "      <td>0.00</td>\n",
              "      <td>0.11</td>\n",
              "      <td>0.22</td>\n",
              "      <td>0.43</td>\n",
              "      <td>1.00</td>\n",
              "    </tr>\n",
              "    <tr>\n",
              "      <th>E1E9</th>\n",
              "      <td>86,872.00</td>\n",
              "      <td>0.58</td>\n",
              "      <td>0.20</td>\n",
              "      <td>0.00</td>\n",
              "      <td>0.42</td>\n",
              "      <td>0.60</td>\n",
              "      <td>0.75</td>\n",
              "      <td>1.00</td>\n",
              "    </tr>\n",
              "    <tr>\n",
              "      <th>E9E25</th>\n",
              "      <td>86,872.00</td>\n",
              "      <td>0.88</td>\n",
              "      <td>0.13</td>\n",
              "      <td>0.00</td>\n",
              "      <td>0.86</td>\n",
              "      <td>0.94</td>\n",
              "      <td>0.96</td>\n",
              "      <td>1.00</td>\n",
              "    </tr>\n",
              "    <tr>\n",
              "      <th>Z20</th>\n",
              "      <td>86,872.00</td>\n",
              "      <td>0.88</td>\n",
              "      <td>0.17</td>\n",
              "      <td>0.00</td>\n",
              "      <td>0.87</td>\n",
              "      <td>0.94</td>\n",
              "      <td>0.96</td>\n",
              "      <td>1.00</td>\n",
              "    </tr>\n",
              "    <tr>\n",
              "      <th>Z53</th>\n",
              "      <td>86,872.00</td>\n",
              "      <td>0.03</td>\n",
              "      <td>0.06</td>\n",
              "      <td>0.00</td>\n",
              "      <td>0.00</td>\n",
              "      <td>0.01</td>\n",
              "      <td>0.02</td>\n",
              "      <td>1.00</td>\n",
              "    </tr>\n",
              "    <tr>\n",
              "      <th>LatMom</th>\n",
              "      <td>86,872.00</td>\n",
              "      <td>0.63</td>\n",
              "      <td>0.30</td>\n",
              "      <td>0.00</td>\n",
              "      <td>0.34</td>\n",
              "      <td>0.68</td>\n",
              "      <td>0.92</td>\n",
              "      <td>1.00</td>\n",
              "    </tr>\n",
              "    <tr>\n",
              "      <th>distinction</th>\n",
              "      <td>86,872.00</td>\n",
              "      <td>0.50</td>\n",
              "      <td>0.50</td>\n",
              "      <td>0.00</td>\n",
              "      <td>0.00</td>\n",
              "      <td>1.00</td>\n",
              "      <td>1.00</td>\n",
              "      <td>1.00</td>\n",
              "    </tr>\n",
              "  </tbody>\n",
              "</table>\n",
              "</div>\n",
              "      <button class=\"colab-df-convert\" onclick=\"convertToInteractive('df-ced79b36-da31-4eb0-aab9-eeec36f595f7')\"\n",
              "              title=\"Convert this dataframe to an interactive table.\"\n",
              "              style=\"display:none;\">\n",
              "        \n",
              "  <svg xmlns=\"http://www.w3.org/2000/svg\" height=\"24px\"viewBox=\"0 0 24 24\"\n",
              "       width=\"24px\">\n",
              "    <path d=\"M0 0h24v24H0V0z\" fill=\"none\"/>\n",
              "    <path d=\"M18.56 5.44l.94 2.06.94-2.06 2.06-.94-2.06-.94-.94-2.06-.94 2.06-2.06.94zm-11 1L8.5 8.5l.94-2.06 2.06-.94-2.06-.94L8.5 2.5l-.94 2.06-2.06.94zm10 10l.94 2.06.94-2.06 2.06-.94-2.06-.94-.94-2.06-.94 2.06-2.06.94z\"/><path d=\"M17.41 7.96l-1.37-1.37c-.4-.4-.92-.59-1.43-.59-.52 0-1.04.2-1.43.59L10.3 9.45l-7.72 7.72c-.78.78-.78 2.05 0 2.83L4 21.41c.39.39.9.59 1.41.59.51 0 1.02-.2 1.41-.59l7.78-7.78 2.81-2.81c.8-.78.8-2.07 0-2.86zM5.41 20L4 18.59l7.72-7.72 1.47 1.35L5.41 20z\"/>\n",
              "  </svg>\n",
              "      </button>\n",
              "      \n",
              "  <style>\n",
              "    .colab-df-container {\n",
              "      display:flex;\n",
              "      flex-wrap:wrap;\n",
              "      gap: 12px;\n",
              "    }\n",
              "\n",
              "    .colab-df-convert {\n",
              "      background-color: #E8F0FE;\n",
              "      border: none;\n",
              "      border-radius: 50%;\n",
              "      cursor: pointer;\n",
              "      display: none;\n",
              "      fill: #1967D2;\n",
              "      height: 32px;\n",
              "      padding: 0 0 0 0;\n",
              "      width: 32px;\n",
              "    }\n",
              "\n",
              "    .colab-df-convert:hover {\n",
              "      background-color: #E2EBFA;\n",
              "      box-shadow: 0px 1px 2px rgba(60, 64, 67, 0.3), 0px 1px 3px 1px rgba(60, 64, 67, 0.15);\n",
              "      fill: #174EA6;\n",
              "    }\n",
              "\n",
              "    [theme=dark] .colab-df-convert {\n",
              "      background-color: #3B4455;\n",
              "      fill: #D2E3FC;\n",
              "    }\n",
              "\n",
              "    [theme=dark] .colab-df-convert:hover {\n",
              "      background-color: #434B5C;\n",
              "      box-shadow: 0px 1px 3px 1px rgba(0, 0, 0, 0.15);\n",
              "      filter: drop-shadow(0px 1px 2px rgba(0, 0, 0, 0.3));\n",
              "      fill: #FFFFFF;\n",
              "    }\n",
              "  </style>\n",
              "\n",
              "      <script>\n",
              "        const buttonEl =\n",
              "          document.querySelector('#df-ced79b36-da31-4eb0-aab9-eeec36f595f7 button.colab-df-convert');\n",
              "        buttonEl.style.display =\n",
              "          google.colab.kernel.accessAllowed ? 'block' : 'none';\n",
              "\n",
              "        async function convertToInteractive(key) {\n",
              "          const element = document.querySelector('#df-ced79b36-da31-4eb0-aab9-eeec36f595f7');\n",
              "          const dataTable =\n",
              "            await google.colab.kernel.invokeFunction('convertToInteractive',\n",
              "                                                     [key], {});\n",
              "          if (!dataTable) return;\n",
              "\n",
              "          const docLinkHtml = 'Like what you see? Visit the ' +\n",
              "            '<a target=\"_blank\" href=https://colab.research.google.com/notebooks/data_table.ipynb>data table notebook</a>'\n",
              "            + ' to learn more about interactive tables.';\n",
              "          element.innerHTML = '';\n",
              "          dataTable['output_type'] = 'display_data';\n",
              "          await google.colab.output.renderOutput(dataTable, element);\n",
              "          const docLink = document.createElement('div');\n",
              "          docLink.innerHTML = docLinkHtml;\n",
              "          element.appendChild(docLink);\n",
              "        }\n",
              "      </script>\n",
              "    </div>\n",
              "  </div>\n",
              "  "
            ]
          },
          "metadata": {},
          "execution_count": 7
        }
      ],
      "source": [
        "# Statical summary\n",
        "\n",
        "plotFrame.describe().T"
      ]
    },
    {
      "cell_type": "code",
      "execution_count": null,
      "metadata": {
        "colab": {
          "base_uri": "https://localhost:8080/",
          "height": 612
        },
        "id": "5DXcU5L0CJOt",
        "outputId": "881730fa-a8ea-4429-922e-3a44aaf58e10"
      },
      "outputs": [
        {
          "output_type": "display_data",
          "data": {
            "text/plain": [
              "<Figure size 1080x720 with 2 Axes>"
            ],
            "image/png": "[encoded data removed]"
          },
          "metadata": {
            "needs_background": "light"
          }
        }
      ],
      "source": [
        "histogram_boxplot(plotFrame['Th'])"
      ]
    },
    {
      "cell_type": "code",
      "execution_count": null,
      "metadata": {
        "colab": {
          "base_uri": "https://localhost:8080/",
          "height": 612
        },
        "id": "TLOF3kQ4CJOu",
        "outputId": "16ed641c-23ce-49f9-cc03-ea3bd9c07c95"
      },
      "outputs": [
        {
          "output_type": "display_data",
          "data": {
            "text/plain": [
              "<Figure size 1080x720 with 2 Axes>"
            ],
            "image/png": "[encoded data removed]"
          },
          "metadata": {
            "needs_background": "light"
          }
        }
      ],
      "source": [
        "histogram_boxplot(plotFrame['Ph'])"
      ]
    },
    {
      "cell_type": "code",
      "execution_count": null,
      "metadata": {
        "colab": {
          "base_uri": "https://localhost:8080/",
          "height": 612
        },
        "id": "EnGzBO_vCJOu",
        "outputId": "65ca5e20-b99d-48ab-ddda-4129f3d0a592"
      },
      "outputs": [
        {
          "output_type": "display_data",
          "data": {
            "text/plain": [
              "<Figure size 1080x720 with 2 Axes>"
            ],
            "image/png": "[encoded data removed]"
          },
          "metadata": {
            "needs_background": "light"
          }
        }
      ],
      "source": [
        "histogram_boxplot(plotFrame['E'])"
      ]
    },
    {
      "cell_type": "code",
      "execution_count": null,
      "metadata": {
        "colab": {
          "base_uri": "https://localhost:8080/",
          "height": 596
        },
        "id": "hYfp0xm1CJOv",
        "outputId": "387bb330-7c7a-4f2d-8154-82e9f2130032"
      },
      "outputs": [
        {
          "output_type": "display_data",
          "data": {
            "text/plain": [
              "<Figure size 1152x720 with 1 Axes>"
            ],
            "image/png": "[encoded data removed]"
          },
          "metadata": {}
        }
      ],
      "source": [
        "sns.set(rc={'figure.figsize':(16,10)})\n",
        "sns.heatmap(plotFrame.corr(),\n",
        "            annot=True,\n",
        "            linewidths=.5,\n",
        "            center=0,\n",
        "            cbar=False,\n",
        "            cmap=\"YlGnBu\")\n",
        "plt.show()"
      ]
    },
    {
      "cell_type": "code",
      "execution_count": null,
      "metadata": {
        "id": "1db_hW9KCJOv"
      },
      "outputs": [],
      "source": [
        "#sns.pairplot(plotFrame, hue='Distindtion');"
      ]
    },
    {
      "cell_type": "code",
      "execution_count": null,
      "metadata": {
        "id": "tvx_9wwXCJOv"
      },
      "outputs": [],
      "source": [
        "# Separating features and the target column\n",
        "X = plotFrame.drop('distinction', axis=1)\n",
        "y = plotFrame['distinction']"
      ]
    },
    {
      "cell_type": "code",
      "execution_count": null,
      "metadata": {
        "id": "0I3_zgMCCJOw"
      },
      "outputs": [],
      "source": [
        "# Splitting the data into train and test sets in 50:50 ratio\n",
        "X_train, X_test, y_train, y_test = train_test_split(X, y, test_size=0.50, random_state=1, shuffle=True)"
      ]
    },
    {
      "cell_type": "code",
      "execution_count": null,
      "metadata": {
        "colab": {
          "base_uri": "https://localhost:8080/"
        },
        "id": "KMd8aFGNCJOw",
        "outputId": "2f38ba7d-4218-4b67-8d71-6ec95410c9cd"
      },
      "outputs": [
        {
          "output_type": "execute_result",
          "data": {
            "text/plain": [
              "((43436, 11), (43436, 11))"
            ]
          },
          "metadata": {},
          "execution_count": 15
        }
      ],
      "source": [
        "X_train.shape, X_test.shape"
      ]
    },
    {
      "cell_type": "code",
      "execution_count": null,
      "metadata": {
        "colab": {
          "base_uri": "https://localhost:8080/"
        },
        "id": "uuUYXilBCJOw",
        "outputId": "867a5564-3047-4293-becf-fbc0ca222a3d"
      },
      "outputs": [
        {
          "output_type": "stream",
          "name": "stdout",
          "text": [
            "['Th', 'Ph', 'E', 'NrHits', 'NrBumps', 'E1', 'E1E9', 'E9E25', 'Z20', 'Z53', 'LatMom']\n"
          ]
        }
      ],
      "source": [
        "# Keep only names of features by removing the name of target variable\n",
        "\n",
        "column_names = list(X.columns)                   \n",
        "feature_names = column_names\n",
        "print(feature_names)"
      ]
    },
    {
      "cell_type": "code",
      "execution_count": null,
      "metadata": {
        "id": "nUfd75MECJOx"
      },
      "outputs": [],
      "source": [
        "def make_confusion_matrix(model,y_actual,labels=[1, 0]):\n",
        "    '''\n",
        "    model : classifier to predict values of X\n",
        "    y_actual : ground truth  \n",
        "    \n",
        "    '''\n",
        "    y_predict = model.predict(X_test)\n",
        "    cm=metrics.confusion_matrix( y_actual, y_predict, labels=[0, 1])\n",
        "    df_cm = pd.DataFrame(cm, index = [i for i in [\"Actual - No\",\"Actual - Yes\"]],\n",
        "                  columns = [i for i in ['Predicted - No','Predicted - Yes']])\n",
        "    group_counts = [\"{0:0.0f}\".format(value) for value in\n",
        "                cm.flatten()]\n",
        "    group_percentages = [\"{0:.2%}\".format(value) for value in\n",
        "                         cm.flatten()/np.sum(cm)]\n",
        "    labels = [f\"{v1}\\n{v2}\" for v1, v2 in\n",
        "              zip(group_counts,group_percentages)]\n",
        "    labels = np.asarray(labels).reshape(2,2)\n",
        "    plt.figure(figsize = (10,7))\n",
        "    sns.heatmap(df_cm, annot=labels,fmt='')\n",
        "    plt.ylabel('True label')\n",
        "    plt.xlabel('Predicted label')"
      ]
    },
    {
      "cell_type": "code",
      "execution_count": null,
      "metadata": {
        "id": "SA16m1aRCJOx"
      },
      "outputs": [],
      "source": [
        "##  Function to calculate recall score\n",
        "def get_recall_score(model):\n",
        "    '''\n",
        "    model : classifier to predict values of X\n",
        "\n",
        "    '''\n",
        "    pred_train = model.predict(X_train)\n",
        "    pred_test = model.predict(X_test)\n",
        "    print(\"Recall on training set : \",metrics.recall_score(y_train,pred_train))\n",
        "    print(\"Recall on test set : \",metrics.recall_score(y_test,pred_test))"
      ]
    },
    {
      "cell_type": "code",
      "execution_count": null,
      "metadata": {
        "id": "uU5DaInjCJOx"
      },
      "outputs": [],
      "source": [
        "##  Function to calculate different metric scores of the model - Accuracy, Recall and Precision\n",
        "def get_metrics_score(model,flag=True):\n",
        "    '''\n",
        "    model : classifier to predict values of X\n",
        "\n",
        "    '''\n",
        "    # defining an empty list to store train and test results\n",
        "    score_list=[] \n",
        "    \n",
        "    #Predicting on train and tests\n",
        "    pred_train = model.predict(X_train)\n",
        "    pred_test = model.predict(X_test)\n",
        "    \n",
        "    #Accuracy of the model\n",
        "    train_acc = model.score(X_train,y_train)\n",
        "    test_acc = model.score(X_test,y_test)\n",
        "    \n",
        "    #Recall of the model\n",
        "    train_recall = metrics.recall_score(y_train,pred_train)\n",
        "    test_recall = metrics.recall_score(y_test,pred_test)\n",
        "    \n",
        "    #Precision of the model\n",
        "    train_precision = metrics.precision_score(y_train,pred_train)\n",
        "    test_precision = metrics.precision_score(y_test,pred_test)\n",
        "    \n",
        "    score_list.extend((train_acc,test_acc,train_recall,test_recall,train_precision,test_precision))\n",
        "        \n",
        "    # If the flag is set to True then only the following print statements will be dispayed. The default value is set to True.\n",
        "    if flag == True: \n",
        "        print(\"Accuracy on training set : \",model.score(X_train,y_train))\n",
        "        print(\"Accuracy on test set : \",model.score(X_test,y_test))\n",
        "        print(\"Recall on training set : \",metrics.recall_score(y_train,pred_train))\n",
        "        print(\"Recall on test set : \",metrics.recall_score(y_test,pred_test))\n",
        "        print(\"Precision on training set : \",metrics.precision_score(y_train,pred_train))\n",
        "        print(\"Precision on test set : \",metrics.precision_score(y_test,pred_test))\n",
        "    \n",
        "    return score_list # returning the list with train and test scores"
      ]
    },
    {
      "cell_type": "code",
      "execution_count": null,
      "metadata": {
        "colab": {
          "base_uri": "https://localhost:8080/"
        },
        "id": "Krm9lNUsCJOy",
        "outputId": "c6bebdd2-a9bb-4b06-9944-884b989bd02d"
      },
      "outputs": [
        {
          "output_type": "execute_result",
          "data": {
            "text/plain": [
              "RandomForestClassifier(random_state=1)"
            ]
          },
          "metadata": {},
          "execution_count": 20
        }
      ],
      "source": [
        "#Train the random forest classifier\n",
        "rf_classifier=RandomForestClassifier(random_state=1)\n",
        "rf_classifier.fit(X_train,y_train)"
      ]
    },
    {
      "cell_type": "code",
      "execution_count": null,
      "metadata": {
        "colab": {
          "base_uri": "https://localhost:8080/",
          "height": 449
        },
        "id": "P8pUIp7lCJOy",
        "outputId": "59c10dd9-fb5d-4cfa-cdff-a1298656dbf7"
      },
      "outputs": [
        {
          "output_type": "display_data",
          "data": {
            "text/plain": [
              "<Figure size 720x504 with 2 Axes>"
            ],
            "image/png": "[encoded data removed]"
          },
          "metadata": {}
        }
      ],
      "source": [
        "make_confusion_matrix(rf_classifier,y_test)"
      ]
    },
    {
      "cell_type": "code",
      "execution_count": null,
      "metadata": {
        "scrolled": true,
        "colab": {
          "base_uri": "https://localhost:8080/"
        },
        "id": "DtFPHutSCJOy",
        "outputId": "616c2ce3-5c1c-46eb-ddde-386e763deb42"
      },
      "outputs": [
        {
          "output_type": "stream",
          "name": "stdout",
          "text": [
            "Accuracy on training set :  1.0\n",
            "Accuracy on test set :  0.9908370936550327\n",
            "Recall on training set :  1.0\n",
            "Recall on test set :  0.9934562211981567\n",
            "Precision on training set :  1.0\n",
            "Precision on test set :  0.9882644173466582\n"
          ]
        }
      ],
      "source": [
        "#Using above defined function to get accuracy, recall and precision on train and test set\n",
        "rf_classifier_score=get_metrics_score(rf_classifier)"
      ]
    },
    {
      "cell_type": "code",
      "execution_count": null,
      "metadata": {
        "colab": {
          "base_uri": "https://localhost:8080/",
          "height": 737
        },
        "id": "yyb2A3KUCJOy",
        "outputId": "374ede23-708b-4e5a-c3a0-c295d3d87824"
      },
      "outputs": [
        {
          "output_type": "display_data",
          "data": {
            "text/plain": [
              "<Figure size 864x864 with 1 Axes>"
            ],
            "image/png": "[encoded data removed]"
          },
          "metadata": {}
        }
      ],
      "source": [
        "importances = rf_classifier.feature_importances_\n",
        "indices = np.argsort(importances)\n",
        "\n",
        "plt.figure(figsize=(12,12))\n",
        "plt.title('Feature Importances')\n",
        "plt.barh(range(len(indices)), importances[indices], color='violet', align='center')\n",
        "plt.yticks(range(len(indices)), [feature_names[i] for i in indices])\n",
        "plt.xlabel('Relative Importance')\n",
        "plt.show()"
      ]
    },
    {
      "cell_type": "code",
      "execution_count": null,
      "metadata": {
        "scrolled": true,
        "id": "BBmU_shSCJOz"
      },
      "outputs": [],
      "source": [
        "X = plotFrame.drop(['Z53','NrBumps','E9E25','Ph', 'Th', 'LatMom','E1E9'], axis=1)"
      ]
    },
    {
      "cell_type": "code",
      "execution_count": null,
      "metadata": {
        "id": "jyDyLH4oCJOz"
      },
      "outputs": [],
      "source": [
        "# Splitting the data into train and test sets in 50:50 ratio\n",
        "X_train, X_test, y_train, y_test = train_test_split(X, y, test_size=0.50, random_state=1, shuffle=True)"
      ]
    },
    {
      "cell_type": "code",
      "execution_count": null,
      "metadata": {
        "colab": {
          "base_uri": "https://localhost:8080/"
        },
        "id": "jIA606aTCJOz",
        "outputId": "7acb6a69-5d73-4aff-dba2-4e23e2e81e4f"
      },
      "outputs": [
        {
          "output_type": "execute_result",
          "data": {
            "text/plain": [
              "RandomForestClassifier(random_state=1)"
            ]
          },
          "metadata": {},
          "execution_count": 26
        }
      ],
      "source": [
        "#Train the random forest classifier\n",
        "rf_classifier=RandomForestClassifier(random_state=1)\n",
        "rf_classifier.fit(X_train,y_train)"
      ]
    },
    {
      "cell_type": "code",
      "execution_count": null,
      "metadata": {
        "colab": {
          "base_uri": "https://localhost:8080/",
          "height": 449
        },
        "id": "UlaIuQ5pCJO0",
        "outputId": "eee739b5-136c-4ad1-cafc-994ead11e8bf"
      },
      "outputs": [
        {
          "output_type": "display_data",
          "data": {
            "text/plain": [
              "<Figure size 720x504 with 2 Axes>"
            ],
            "image/png": "[encoded data removed]"
          },
          "metadata": {}
        }
      ],
      "source": [
        "make_confusion_matrix(rf_classifier,y_test)"
      ]
    },
    {
      "cell_type": "code",
      "execution_count": null,
      "metadata": {
        "colab": {
          "base_uri": "https://localhost:8080/"
        },
        "id": "FaqT8-c2CJO0",
        "outputId": "97ba8f38-3916-40a7-8e5c-5265b9f64b85"
      },
      "outputs": [
        {
          "output_type": "stream",
          "name": "stdout",
          "text": [
            "Accuracy on training set :  1.0\n",
            "Accuracy on test set :  1.0\n",
            "Recall on training set :  1.0\n",
            "Recall on test set :  1.0\n",
            "Precision on training set :  1.0\n",
            "Precision on test set :  1.0\n"
          ]
        }
      ],
      "source": [
        "#Using above defined function to get accuracy, recall and precision on train and test set\n",
        "rf_classifier_score=get_metrics_score(rf_classifier)"
      ]
    }
  ],
  "metadata": {
    "kernelspec": {
      "display_name": "Python 3",
      "language": "python",
      "name": "python3"
    },
    "language_info": {
      "codemirror_mode": {
        "name": "ipython",
        "version": 3
      },
      "file_extension": ".py",
      "mimetype": "text/x-python",
      "name": "python",
      "nbconvert_exporter": "python",
      "pygments_lexer": "ipython3",
      "version": "3.8.5"
    },
    "colab": {
      "provenance": []
    }
  },
  "nbformat": 4,
  "nbformat_minor": 0
}